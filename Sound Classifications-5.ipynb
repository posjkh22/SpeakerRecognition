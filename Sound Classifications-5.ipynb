{
 "cells": [
  {
   "cell_type": "code",
   "execution_count": 1,
   "metadata": {},
   "outputs": [],
   "source": [
    "#\n",
    "#  output 5 class, 1248 input, 20 input attirbutes, \n",
    "#  (2) Hidden Layer, (1) Output layer\n",
    "#  Xavier Initializer\n",
    "#  running_rate = 0.01\n",
    "#  relu activation / softmax output\n",
    "#  Accuracy: 94.61 \n",
    "#  Mini-batch GD: training_number : 18000, batch_size: 200\n",
    "#\n",
    "#  ** Mini-batch GD is much faster than Naive GD \n",
    "# "
   ]
  },
  {
   "cell_type": "code",
   "execution_count": 2,
   "metadata": {},
   "outputs": [],
   "source": [
    "import numpy as np\n",
    "import matplotlib.pyplot as plt\n",
    "\n",
    "import librosa\n",
    "import librosa.display\n",
    "import IPython.display\n",
    "\n",
    "import tensorflow as tf"
   ]
  },
  {
   "cell_type": "code",
   "execution_count": 3,
   "metadata": {},
   "outputs": [
    {
     "name": "stdout",
     "output_type": "stream",
     "text": [
      "load1 done!\n",
      "load2 done!\n",
      "load3 done!\n",
      "load4 done!\n",
      "load5 done!\n",
      "22050 22050 22050 22050 22050\n"
     ]
    }
   ],
   "source": [
    "nb_classes = 5\n",
    "\n",
    "y1, sr1 = librosa.load('data/1/1.wav')\n",
    "print(\"load1 done!\")\n",
    "\n",
    "y2, sr2 = librosa.load('data/2/2.wav')\n",
    "print(\"load2 done!\")\n",
    "\n",
    "y3, sr3 = librosa.load('data/3/3.wav')\n",
    "print(\"load3 done!\")\n",
    "\n",
    "y4, sr4 = librosa.load('data/4/4.wav')\n",
    "print(\"load4 done!\")\n",
    "\n",
    "y5, sr5 = librosa.load('data/5/5.wav')\n",
    "print(\"load5 done!\")\n",
    "\n",
    "#y6, sr6 = librosa.load('data/6/6.wav')\n",
    "#y7, sr7 = librosa.load('data/7/7.wav')\n",
    "\n",
    "print(sr1, sr2, sr3, sr4, sr5)"
   ]
  },
  {
   "cell_type": "code",
   "execution_count": 4,
   "metadata": {},
   "outputs": [
    {
     "name": "stdout",
     "output_type": "stream",
     "text": [
      "(20, 30736)\n",
      "(20, 16410)\n",
      "(20, 12488)\n",
      "(20, 45240)\n",
      "(20, 19988)\n"
     ]
    }
   ],
   "source": [
    "#mfcc\n",
    "\n",
    "mfcc1 = librosa.feature.mfcc(y=y1, sr=sr1)\n",
    "mfcc2 = librosa.feature.mfcc(y=y2, sr=sr2)\n",
    "mfcc3 = librosa.feature.mfcc(y=y3, sr=sr3)\n",
    "mfcc4 = librosa.feature.mfcc(y=y4, sr=sr4)\n",
    "mfcc5 = librosa.feature.mfcc(y=y5, sr=sr5)\n",
    "#mfcc6 = librosa.feature.mfcc(y=y6, sr=sr6)\n",
    "#mfcc7 = librosa.feature.mfcc(y=y7, sr=sr7)\n",
    "\n",
    "\n",
    "print(mfcc1.shape)\n",
    "print(mfcc2.shape)\n",
    "print(mfcc3.shape)\n",
    "print(mfcc4.shape)\n",
    "print(mfcc5.shape)\n",
    "#print(mfcc6.shape)\n",
    "#print(mfcc7.shape)\n"
   ]
  },
  {
   "cell_type": "code",
   "execution_count": 5,
   "metadata": {},
   "outputs": [
    {
     "name": "stdout",
     "output_type": "stream",
     "text": [
      "(20, 1248)\n",
      "(20, 1248)\n",
      "(20, 1248)\n",
      "(20, 1248)\n",
      "(20, 1248)\n"
     ]
    }
   ],
   "source": [
    "# resize data size\n",
    "mfcc = [mfcc1, mfcc2, mfcc3, mfcc4, mfcc5]\n",
    "y = [y1, y2, y3, y4, y5]\n",
    "\n",
    "min = 9999999\n",
    "\n",
    "for i in range (0, 5):\n",
    "    if min > mfcc[i].shape[1]:\n",
    "        min = mfcc[i].shape[1] \n",
    "    \n",
    "min = int(min/10)\n",
    "    \n",
    "for i in range (0, 5):\n",
    "    mfcc[i] = mfcc[i][:, 0:min]\n",
    "    print(mfcc[i].shape)\n"
   ]
  },
  {
   "cell_type": "code",
   "execution_count": 6,
   "metadata": {},
   "outputs": [
    {
     "name": "stdout",
     "output_type": "stream",
     "text": [
      "(1248, 20)\n",
      "(1248, 20)\n",
      "(1248, 20)\n",
      "(1248, 20)\n",
      "(1248, 20)\n",
      "(1248, 21)\n",
      "(1248, 21)\n",
      "(1248, 21)\n",
      "(1248, 21)\n",
      "(1248, 21)\n"
     ]
    }
   ],
   "source": [
    "# labeling\n",
    "\n",
    "for i in range (0, nb_classes):\n",
    "    mfcc[i] = mfcc[i].transpose()\n",
    "    print(mfcc[i].shape)\n",
    "\n",
    "\n",
    "for i in range (0, nb_classes):\n",
    "    y[i] = np.ones((min, 1), dtype='int') * (i+1) -1\n",
    "\n",
    "for i in range (0, nb_classes):\n",
    "    mfcc[i] = np.hstack([mfcc[i], y[i]])\n",
    "    print(mfcc[i].shape)\n",
    "\n"
   ]
  },
  {
   "cell_type": "code",
   "execution_count": 7,
   "metadata": {},
   "outputs": [
    {
     "name": "stdout",
     "output_type": "stream",
     "text": [
      "(6240, 21)\n",
      "[-219.68866402  203.64932289   19.94048606   -7.54751873    8.66269929\n",
      "    0.3350453    -5.36576533  -10.52724764  -11.05766178   -8.696093\n",
      "   -7.86116865   -7.00606116   -6.86664637   -8.78624098  -20.69763658\n",
      "  -16.36345817    9.49607862    1.04988936  -18.39665721   -0.70150924\n",
      "    0.        ]\n",
      "(6240, 21)\n"
     ]
    }
   ],
   "source": [
    "# input data shuffling\n",
    "\n",
    "\n",
    "mfcc_append = []\n",
    "\n",
    "for i in range (0, nb_classes):\n",
    "    \n",
    "    if i == 0:\n",
    "        mfcc_append = np.vstack([mfcc[i], mfcc[i+1]])\n",
    "    \n",
    "    elif i == 1:\n",
    "        continue\n",
    "        \n",
    "    else:\n",
    "        mfcc_append = np.vstack([mfcc_append, mfcc[i]])\n",
    "\n",
    "\n",
    "print(mfcc_append.shape)\n",
    "\n",
    "print(mfcc_append[20])\n",
    "\n",
    "\n",
    "np.random.shuffle(mfcc_append)\n",
    "\n",
    "mfcc_shuffle = mfcc_append\n",
    "print(mfcc_shuffle.shape)"
   ]
  },
  {
   "cell_type": "code",
   "execution_count": 8,
   "metadata": {},
   "outputs": [
    {
     "name": "stdout",
     "output_type": "stream",
     "text": [
      "FINAL IN/OUTPUT SHAPE\n",
      "(6240, 20)\n",
      "(6240, 5)\n",
      "\n",
      "FINAL IN/OUTPUT DATA\n",
      "[[-260.69645364   65.39325452   23.63072404 ...    0.82276593\n",
      "    -0.5095031     9.19355541]\n",
      " [-306.57153442  108.61023455   20.67245652 ...   -2.87304427\n",
      "     9.59392857   15.5264599 ]\n",
      " [  99.88845624   70.01967765    9.89993446 ...    2.80956492\n",
      "    -9.54801317   11.49523116]\n",
      " ...\n",
      " [-350.48605457  115.71289431   65.65739526 ...    3.23565349\n",
      "    -5.11818939   -4.57868813]\n",
      " [-354.56723407  109.34801212   37.74008424 ...   -5.36599118\n",
      "    -1.10212734    2.84229992]\n",
      " [-306.51275119   91.70856631  -19.77079851 ...   -8.35262924\n",
      "    13.5433133    33.51694054]]\n",
      "[[0. 1. 0. 0. 0.]\n",
      " [0. 0. 0. 0. 1.]\n",
      " [0. 1. 0. 0. 0.]\n",
      " ...\n",
      " [1. 0. 0. 0. 0.]\n",
      " [1. 0. 0. 0. 0.]\n",
      " [0. 0. 0. 0. 1.]]\n"
     ]
    }
   ],
   "source": [
    "# labeled value one-hot encoding\n",
    "\n",
    "nb_classes = 5\n",
    "\n",
    "\n",
    "mfcc_shuffle_T = mfcc_shuffle.transpose()\n",
    "\n",
    "x_data_t = mfcc_shuffle_T[:-1]\n",
    "y_data_t = mfcc_shuffle_T[-1:]\n",
    "x_data = x_data_t.transpose()\n",
    "y_data_t = y_data_t.flatten()\n",
    "\n",
    "\n",
    "\n",
    "y_data_one_hot = tf.one_hot(y_data_t, nb_classes, dtype=tf.float32)\n",
    "\n",
    "tf.InteractiveSession().as_default()\n",
    "tf.tables_initializer().run()\n",
    "\n",
    "y_data_one_hot = y_data_one_hot.eval()\n",
    "\n",
    "\n",
    "print(\"FINAL IN/OUTPUT SHAPE\")\n",
    "print(x_data.shape)\n",
    "print(y_data_one_hot.shape)\n",
    "\n",
    "print(\"\\nFINAL IN/OUTPUT DATA\")\n",
    "print(x_data)\n",
    "print(y_data_one_hot)"
   ]
  },
  {
   "cell_type": "code",
   "execution_count": 21,
   "metadata": {},
   "outputs": [],
   "source": [
    "# FCN\n",
    "\n",
    "training_number = 18000\n",
    "learning_rate = 0.01\n",
    "\n",
    "\n",
    "with tf.variable_scope(\"sound_classifications-5-7\") as scope:\n",
    "    tf.variable_scope(scope, reuse=True)\n",
    "    # MNIST data image of shape 28 * 28 = 784\n",
    "    X = tf.placeholder(tf.float32, [None, 20])\n",
    "    # 0 - 9 digits recognition = 10 classes\n",
    "    Y = tf.placeholder(tf.float32, [None, nb_classes])\n",
    "\n",
    "    W1 = tf.get_variable(\"W1\", shape=[20, 500], initializer=tf.contrib.layers.xavier_initializer())\n",
    "    b1 = tf.Variable(tf.random_normal([500]))\n",
    "    L1 = tf.nn.relu(tf.matmul(X, W1) + b1)\n",
    "\n",
    "    W2 = tf.get_variable(\"W2\", shape=[500, 500], initializer=tf.contrib.layers.xavier_initializer())\n",
    "    b2 = tf.Variable(tf.random_normal([500]))\n",
    "    L2 = tf.nn.relu(tf.matmul(L1, W2) + b2)\n",
    "\n",
    "\n",
    "    W3 = tf.get_variable(\"W3\", shape=[500, nb_classes], initializer=tf.contrib.layers.xavier_initializer())\n",
    "    b3 = tf.Variable(tf.random_normal([nb_classes]))\n",
    "    hypothesis = tf.matmul(L2, W3) + b3"
   ]
  },
  {
   "cell_type": "code",
   "execution_count": 22,
   "metadata": {},
   "outputs": [],
   "source": [
    "# Cross entropy cost/loss\n",
    "#cost = tf.reduce_mean(-tf.reduce_sum(Y * tf.log(hypothesis), axis=1))\n",
    "\n",
    "cost = tf.reduce_mean(tf.nn.softmax_cross_entropy_with_logits(labels=Y, logits=hypothesis))\n",
    "\n",
    "optimizer = tf.train.GradientDescentOptimizer(learning_rate=learning_rate).minimize(cost)\n",
    "\n",
    "# Accuracy\n",
    "is_correct = tf.equal(tf.arg_max(hypothesis, 1), tf.argmax(Y, 1))\n",
    "accuracy = tf.reduce_mean(tf.cast(is_correct, tf.float32))"
   ]
  },
  {
   "cell_type": "code",
   "execution_count": 23,
   "metadata": {},
   "outputs": [
    {
     "name": "stdout",
     "output_type": "stream",
     "text": [
      "0 2.3604944\n",
      "10 0.7541567\n",
      "20 0.39245024\n",
      "30 0.37321106\n",
      "40 0.3322247\n",
      "50 0.19215442\n",
      "60 0.17666465\n",
      "70 0.14508627\n",
      "80 0.12709258\n",
      "Accuracy:  0.9461538\n"
     ]
    }
   ],
   "source": [
    "# Launch graph\n",
    "\n",
    "batch_size = 200\n",
    "\n",
    "cost_history = []\n",
    "with tf.Session() as sess:\n",
    "    sess.run(tf.global_variables_initializer())\n",
    "\n",
    "    for epoch in range(int(training_number/batch_size)):\n",
    "        batch_count = int(x_data.shape[0]/batch_size)\n",
    "        \n",
    "        for i in range(batch_count):\n",
    "    \n",
    "            batch_xs, batch_ys = x_data[i* batch_size: i*batch_size+batch_size], y_data_one_hot[i*batch_size:i*batch_size+batch_size]\n",
    "        \n",
    "            sess.run(optimizer, feed_dict={X: batch_xs, Y: batch_ys})\n",
    "\n",
    "            curr_cost = sess.run(cost, feed_dict={X: batch_xs, Y: batch_ys})\n",
    "            \n",
    "            \n",
    "        if epoch % 10 == 0:    \n",
    "            print(epoch, curr_cost)\n",
    "            cost_history.append(curr_cost)\n",
    "                                \n",
    "                                \n",
    "    print(\"Accuracy: \", accuracy.eval(session=sess, feed_dict={X: x_data, Y: y_data_one_hot})) "
   ]
  },
  {
   "cell_type": "code",
   "execution_count": 24,
   "metadata": {},
   "outputs": [
    {
     "data": {
      "image/png": "[encoded data removed]",
      "text/plain": [
       "<Figure size 432x288 with 1 Axes>"
      ]
     },
     "metadata": {},
     "output_type": "display_data"
    }
   ],
   "source": [
    "plt.plot(cost_history)\n",
    "plt.show()"
   ]
  },
  {
   "cell_type": "code",
   "execution_count": null,
   "metadata": {},
   "outputs": [],
   "source": []
  }
 ],
 "metadata": {
  "kernelspec": {
   "display_name": "Python 3",
   "language": "python",
   "name": "python3"
  },
  "language_info": {
   "codemirror_mode": {
    "name": "ipython",
    "version": 3
   },
   "file_extension": ".py",
   "mimetype": "text/x-python",
   "name": "python",
   "nbconvert_exporter": "python",
   "pygments_lexer": "ipython3",
   "version": "3.5.5"
  }
 },
 "nbformat": 4,
 "nbformat_minor": 2
}
