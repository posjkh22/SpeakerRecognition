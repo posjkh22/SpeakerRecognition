{
 "cells": [
  {
   "cell_type": "code",
   "execution_count": 1,
   "metadata": {},
   "outputs": [],
   "source": [
    "#\n",
    "# label \n",
    "# 01: risabae https://www.youtube.com/watch?v=xsBKNABqi5E\n",
    "# 02: ssin https://www.youtube.com/watch?v=73fUeFCbeX0\n",
    "# 03: seon story  https://www.youtube.com/watch?v=ObD9i534dWo\n",
    "# 04: gond dea sang byun https://www.youtube.com/watch?v=bkOmOWHqf5Y\n",
    "# 05: carrieandtoys https://www.youtube.com/watch?v=JpiJoYXquh4\n",
    "# 06: big library https://www.youtube.com/watch?v=uGv_X4C18NI\n",
    "# 07: yangthing https://www.youtube.com/watch?v=OpdvcUAYp9A\n",
    "# 08: bokyum https://www.youtube.com/watch?v=4nkCoELM4zU\n",
    "# 09: heopop https://www.youtube.com/watch?v=-ajBifuuglg\n",
    "# 10: cook tv https://www.youtube.com/watch?v=iAvEcepENUU\n",
    "#             https://www.youtube.com/watch?v=AUt3bZvhs_Q\n",
    "# 11: raon lee https://www.youtube.com/watch?v=VFO8OGyuJVo\n",
    "#              https://www.youtube.com/watch?v=NCGGxr1GPN0\n",
    "# 12: benz https://www.youtube.com/watch?v=N9ykrWXZyZU\n",
    "# 13: doty tv https://www.youtube.com/watch?v=FyvTigUETZ0\n",
    "# 14: maangchi https://www.youtube.com/watch?v=VO3EiWBH15Y\n",
    "# 15: british man https://www.youtube.com/watch?v=l-7U1Nn7zPI\n",
    "# 16: bj thung ge thung https://www.youtube.com/watch?v=7xqbLbRIYsw\n",
    "# 17: pony makeup https://www.youtube.com/watch?v=xnA-HnNyXXs\n",
    "# 18: crocodile https://www.youtube.com/watch?v=7HCBjDIv01M\n",
    "# 19: jflamusic https://www.youtube.com/watch?v=QKEKYm3mIFA\n",
    "#               https://www.youtube.com/watch?v=qu9V8jhWeYA\n",
    "#               https://www.youtube.com/watch?v=bSPCZSqYsDc\n",
    "# 20: jamthle tv https://www.youtube.com/watch?v=la4e2i4TWiw\n",
    "\n"
   ]
  },
  {
   "cell_type": "code",
   "execution_count": 2,
   "metadata": {},
   "outputs": [],
   "source": [
    "import os\n",
    "\n",
    "import numpy as np\n",
    "import matplotlib.pyplot as plt\n",
    "\n",
    "import librosa\n",
    "import librosa.display\n",
    "import IPython.display\n",
    "\n",
    "import tensorflow as tf"
   ]
  },
  {
   "cell_type": "code",
   "execution_count": 3,
   "metadata": {},
   "outputs": [
    {
     "name": "stdout",
     "output_type": "stream",
     "text": [
      "nb_class:  20\n",
      "item_num in class 1 :  1\n",
      "item_num in class 2 :  1\n",
      "item_num in class 3 :  1\n",
      "item_num in class 4 :  1\n",
      "item_num in class 5 :  1\n",
      "item_num in class 6 :  1\n",
      "item_num in class 7 :  1\n",
      "item_num in class 8 :  1\n",
      "item_num in class 9 :  1\n",
      "item_num in class 10 :  2\n",
      "item_num in class 11 :  2\n",
      "item_num in class 12 :  1\n",
      "item_num in class 13 :  1\n",
      "item_num in class 14 :  1\n",
      "item_num in class 15 :  1\n",
      "item_num in class 16 :  1\n",
      "item_num in class 17 :  1\n",
      "item_num in class 18 :  1\n",
      "item_num in class 19 :  3\n",
      "item_num in class 20 :  1\n"
     ]
    }
   ],
   "source": [
    "\n",
    "data_path = './data5/'\n",
    "\n",
    "nb_classes = len(os.listdir(data_path))\n",
    "\n",
    "print(\"nb_class: \", nb_classes)\n",
    "\n",
    "for sub_path in range(nb_classes):\n",
    "    item_num = os.listdir(data_path+str(sub_path+1))\n",
    "    print(\"item_num in class\", sub_path+1, \": \" , len(item_num))"
   ]
  },
  {
   "cell_type": "code",
   "execution_count": 4,
   "metadata": {},
   "outputs": [
    {
     "name": "stdout",
     "output_type": "stream",
     "text": [
      "load 0 in 1 done!\n",
      "load 0 in 2 done!\n",
      "load 0 in 3 done!\n",
      "load 0 in 4 done!\n",
      "load 0 in 5 done!\n",
      "load 0 in 6 done!\n",
      "load 0 in 7 done!\n",
      "load 0 in 8 done!\n",
      "load 0 in 9 done!\n",
      "load 0 in 10 done!\n",
      "load 1 in 10 done!\n",
      "load 0 in 11 done!\n",
      "load 1 in 11 done!\n",
      "load 0 in 12 done!\n",
      "load 0 in 13 done!\n",
      "load 0 in 14 done!\n",
      "load 0 in 15 done!\n",
      "load 0 in 16 done!\n",
      "load 0 in 17 done!\n",
      "load 0 in 18 done!\n",
      "load 0 in 19 done!\n",
      "load 1 in 19 done!\n",
      "load 2 in 19 done!\n",
      "load 0 in 20 done!\n"
     ]
    }
   ],
   "source": [
    "\n",
    "_y = [None] * nb_classes\n",
    "_sr = [None] * nb_classes\n",
    "\n",
    "for sub_path in range(nb_classes):\n",
    "    item_num = os.listdir(data_path+str(sub_path+1))\n",
    "    \n",
    "    _y[sub_path] = [None] * len(item_num)\n",
    "    _sr[sub_path] = [None] * len(item_num)\n",
    "\n",
    "    \n",
    "    for i in range(len(item_num)):\n",
    "        _y[sub_path][i], _sr[sub_path][i] = librosa.load(data_path + str(sub_path+1) + '/' + str(i) + '.wav')\n",
    "        print(\"load\", i,\"in\", sub_path+1, \"done!\")"
   ]
  },
  {
   "cell_type": "code",
   "execution_count": 6,
   "metadata": {},
   "outputs": [],
   "source": [
    "y = _y\n",
    "sr = _sr"
   ]
  },
  {
   "cell_type": "code",
   "execution_count": 7,
   "metadata": {},
   "outputs": [
    {
     "name": "stdout",
     "output_type": "stream",
     "text": [
      "Shape 0 in 1 : (22032544,)\n",
      "Shape 0 in 2 : (23131808,)\n",
      "Shape 0 in 3 : (10374368,)\n",
      "Shape 0 in 4 : (13448160,)\n",
      "Shape 0 in 5 : (16338976,)\n",
      "Shape 0 in 6 : (24051424,)\n",
      "Shape 0 in 7 : (23794944,)\n",
      "Shape 0 in 8 : (15737600,)\n",
      "Shape 0 in 9 : (18264160,)\n",
      "Shape 0 in 10 : (6625952,)\n",
      "Shape 1 in 10 : (7333984,)\n",
      "Shape 0 in 11 : (7309792,)\n",
      "Shape 1 in 11 : (5510816,)\n",
      "Shape 0 in 12 : (25242336,)\n",
      "Shape 0 in 13 : (28452384,)\n",
      "Shape 0 in 14 : (25071328,)\n",
      "Shape 0 in 15 : (12323840,)\n",
      "Shape 0 in 16 : (27639552,)\n",
      "Shape 0 in 17 : (16686944,)\n",
      "Shape 0 in 18 : (21218464,)\n",
      "Shape 0 in 19 : (4375712,)\n",
      "Shape 1 in 19 : (3255776,)\n",
      "Shape 2 in 19 : (3396128,)\n",
      "Shape 0 in 20 : (19783072,)\n"
     ]
    }
   ],
   "source": [
    "\n",
    "\n",
    "# audio data verification\n",
    "\n",
    "for sub_path in range(nb_classes):\n",
    "    item_num = os.listdir(data_path+str(sub_path+1))\n",
    "    \n",
    "    for i in range(len(item_num)):\n",
    "        print(\"Shape\", i,\"in\", sub_path+1, \":\", y[sub_path][i].shape)"
   ]
  },
  {
   "cell_type": "code",
   "execution_count": 8,
   "metadata": {},
   "outputs": [
    {
     "name": "stdout",
     "output_type": "stream",
     "text": [
      "[[22050], [22050], [22050], [22050], [22050], [22050], [22050], [22050], [22050], [22050, 22050], [22050, 22050], [22050], [22050], [22050], [22050], [22050], [22050], [22050], [22050, 22050, 22050], [22050]]\n",
      "22050\n"
     ]
    }
   ],
   "source": [
    "# sampling rate verification\n",
    "\n",
    "print(sr)\n",
    "print(sr[0][0])"
   ]
  },
  {
   "cell_type": "code",
   "execution_count": 9,
   "metadata": {},
   "outputs": [
    {
     "name": "stdout",
     "output_type": "stream",
     "text": [
      "Shape 0 in 1 : (22032544,)\n",
      "Shape 0 in 2 : (23131808,)\n",
      "Shape 0 in 3 : (10374368,)\n",
      "Shape 0 in 4 : (13448160,)\n",
      "Shape 0 in 5 : (16338976,)\n",
      "Shape 0 in 6 : (24051424,)\n",
      "Shape 0 in 7 : (23794944,)\n",
      "Shape 0 in 8 : (15737600,)\n",
      "Shape 0 in 9 : (18264160,)\n",
      "Shape 0 in 10 : (6625952,)\n",
      "Shape 1 in 10 : (7333984,)\n",
      "Shape 0 in 11 : (7309792,)\n",
      "Shape 1 in 11 : (5510816,)\n",
      "Shape 0 in 12 : (25242336,)\n",
      "Shape 0 in 13 : (28452384,)\n",
      "Shape 0 in 14 : (25071328,)\n",
      "Shape 0 in 15 : (12323840,)\n",
      "Shape 0 in 16 : (27639552,)\n",
      "Shape 0 in 17 : (16686944,)\n",
      "Shape 0 in 18 : (21218464,)\n",
      "Shape 0 in 19 : (4375712,)\n",
      "Shape 1 in 19 : (3255776,)\n",
      "Shape 2 in 19 : (3396128,)\n",
      "Shape 0 in 20 : (19783072,)\n"
     ]
    }
   ],
   "source": [
    "# audio data verification\n",
    "\n",
    "for sub_path in range(nb_classes):\n",
    "    item_num = os.listdir(data_path+str(sub_path+1))\n",
    "    \n",
    "    for i in range(len(item_num)):\n",
    "        print(\"Shape\", i,\"in\", sub_path+1, \":\", y[sub_path][i].shape)\n",
    "        \n",
    "        \n"
   ]
  },
  {
   "cell_type": "code",
   "execution_count": 10,
   "metadata": {},
   "outputs": [
    {
     "name": "stdout",
     "output_type": "stream",
     "text": [
      "\n",
      "Stacked Audio raw data\n",
      "(22032544,)\n",
      "(23131808,)\n",
      "(10374368,)\n",
      "(13448160,)\n",
      "(16338976,)\n",
      "(24051424,)\n",
      "(23794944,)\n",
      "(15737600,)\n",
      "(18264160,)\n",
      "(13959936,)\n",
      "(12820608,)\n",
      "(25242336,)\n",
      "(28452384,)\n",
      "(25071328,)\n",
      "(12323840,)\n",
      "(27639552,)\n",
      "(16686944,)\n",
      "(21218464,)\n",
      "(11027616,)\n",
      "(19783072,)\n"
     ]
    }
   ],
   "source": [
    "# audio_data_stack\n",
    "\n",
    "\n",
    "audio_data = [None] * nb_classes\n",
    "\n",
    "for sub_path in range (0, nb_classes):\n",
    "    item_num = os.listdir(data_path+str(sub_path+1))\n",
    "    \n",
    "    for i in range(len(item_num)):\n",
    "        \n",
    "        if len(item_num) == 1:\n",
    "            audio_data[sub_path] = y[sub_path][0] \n",
    "\n",
    "        else:\n",
    "\n",
    "            if i == 0:\n",
    "                audio_data[sub_path] = np.hstack([y[sub_path][i], y[sub_path][i+1]]) \n",
    "\n",
    "            elif i == 1:\n",
    "                continue\n",
    "\n",
    "            else:\n",
    "                audio_data[sub_path] = np.hstack([audio_data[sub_path], y[sub_path][i]]) \n",
    "\n",
    "print(\"\\nStacked Audio raw data\")    \n",
    "for sub_path in range (0, nb_classes):        \n",
    "    print(audio_data[sub_path].shape)            "
   ]
  },
  {
   "cell_type": "code",
   "execution_count": 11,
   "metadata": {},
   "outputs": [
    {
     "name": "stdout",
     "output_type": "stream",
     "text": [
      "\n",
      "Stacked Audio raw data\n",
      "(22032544,)\n",
      "(23131808,)\n",
      "(10374368,)\n",
      "(13448160,)\n",
      "(16338976,)\n",
      "(24051424,)\n",
      "(23794944,)\n",
      "(15737600,)\n",
      "(18264160,)\n",
      "(13959936,)\n",
      "(12820608,)\n",
      "(25242336,)\n",
      "(28452384,)\n",
      "(25071328,)\n",
      "(12323840,)\n",
      "(27639552,)\n",
      "(16686944,)\n",
      "(21218464,)\n",
      "(11027616,)\n",
      "(19783072,)\n",
      "10374368\n",
      "1296796\n",
      "\n",
      "Resized Audio raw data\n",
      "(1269600,)\n",
      "(1269600,)\n",
      "(1269600,)\n",
      "(1269600,)\n",
      "(1269600,)\n",
      "(1269600,)\n",
      "(1269600,)\n",
      "(1269600,)\n",
      "(1269600,)\n",
      "(1269600,)\n",
      "(1269600,)\n",
      "(1269600,)\n",
      "(1269600,)\n",
      "(1269600,)\n",
      "(1269600,)\n",
      "(1269600,)\n",
      "(1269600,)\n",
      "(1269600,)\n",
      "(1269600,)\n",
      "(1269600,)\n"
     ]
    }
   ],
   "source": [
    "print(\"\\nStacked Audio raw data\")    \n",
    "for sub_path in range (0, nb_classes):        \n",
    "    print(audio_data[sub_path].shape)\n",
    "\n",
    "min = 9999999999\n",
    "\n",
    "for i in range (0, 5):\n",
    "    if min > audio_data[i].shape[0]:\n",
    "        min = audio_data[i].shape[0] \n",
    "\n",
    "print(min)\n",
    "\n",
    "input_data_size = 460\n",
    "\n",
    "min = int(min/8)\n",
    "\n",
    "print(min)\n",
    "\n",
    "\n",
    "min = min - min %(input_data_size * input_data_size)\n",
    "    \n",
    "\n",
    "print(\"\\nResized Audio raw data\")    \n",
    "for i in range (nb_classes):\n",
    "    audio_data[i] = audio_data[i][0:min]\n",
    "    print(audio_data[i].shape)"
   ]
  },
  {
   "cell_type": "code",
   "execution_count": 12,
   "metadata": {},
   "outputs": [
    {
     "name": "stdout",
     "output_type": "stream",
     "text": [
      "0 (20, 2480)\n",
      "1 (20, 2480)\n",
      "2 (20, 2480)\n",
      "3 (20, 2480)\n",
      "4 (20, 2480)\n",
      "5 (20, 2480)\n",
      "6 (20, 2480)\n",
      "7 (20, 2480)\n",
      "8 (20, 2480)\n",
      "9 (20, 2480)\n",
      "10 (20, 2480)\n",
      "11 (20, 2480)\n",
      "12 (20, 2480)\n",
      "13 (20, 2480)\n",
      "14 (20, 2480)\n",
      "15 (20, 2480)\n",
      "16 (20, 2480)\n",
      "17 (20, 2480)\n",
      "18 (20, 2480)\n",
      "19 (20, 2480)\n"
     ]
    }
   ],
   "source": [
    "# mfcc\n",
    "\n",
    "mfcc = [None] * nb_classes\n",
    "\n",
    "for sub_class in range(nb_classes):\n",
    "    mfcc[sub_class] = librosa.feature.mfcc(y=audio_data[sub_class], sr=sr[0][0])\n",
    "    print(sub_class, mfcc[sub_class].shape)\n"
   ]
  },
  {
   "cell_type": "code",
   "execution_count": 13,
   "metadata": {},
   "outputs": [
    {
     "name": "stdout",
     "output_type": "stream",
     "text": [
      "mfcc_size:  2480\n",
      "0 (2480, 20)\n",
      "1 (2480, 20)\n",
      "2 (2480, 20)\n",
      "3 (2480, 20)\n",
      "4 (2480, 20)\n",
      "5 (2480, 20)\n",
      "6 (2480, 20)\n",
      "7 (2480, 20)\n",
      "8 (2480, 20)\n",
      "9 (2480, 20)\n",
      "10 (2480, 20)\n",
      "11 (2480, 20)\n",
      "12 (2480, 20)\n",
      "13 (2480, 20)\n",
      "14 (2480, 20)\n",
      "15 (2480, 20)\n",
      "16 (2480, 20)\n",
      "17 (2480, 20)\n",
      "18 (2480, 20)\n",
      "19 (2480, 20)\n",
      "0 (2480, 21)\n",
      "1 (2480, 21)\n",
      "2 (2480, 21)\n",
      "3 (2480, 21)\n",
      "4 (2480, 21)\n",
      "5 (2480, 21)\n",
      "6 (2480, 21)\n",
      "7 (2480, 21)\n",
      "8 (2480, 21)\n",
      "9 (2480, 21)\n",
      "10 (2480, 21)\n",
      "11 (2480, 21)\n",
      "12 (2480, 21)\n",
      "13 (2480, 21)\n",
      "14 (2480, 21)\n",
      "15 (2480, 21)\n",
      "16 (2480, 21)\n",
      "17 (2480, 21)\n",
      "18 (2480, 21)\n",
      "19 (2480, 21)\n"
     ]
    }
   ],
   "source": [
    "# labeling\n",
    "\n",
    "mfcc_size = mfcc[0].shape[1]\n",
    "print(\"mfcc_size: \", mfcc_size)\n",
    "\n",
    "\n",
    "for i in range (nb_classes):\n",
    "    mfcc[i] = mfcc[i].transpose()\n",
    "    print(i, mfcc[i].shape)\n",
    "\n",
    "\n",
    "for i in range (nb_classes):\n",
    "    y[i] = np.ones((mfcc_size, 1), dtype='int') * (i+1) -1\n",
    "\n",
    "    \n",
    "for i in range (nb_classes):\n",
    "    mfcc[i] = np.hstack([mfcc[i], y[i]])\n",
    "    print(i, mfcc[i].shape)\n",
    "\n"
   ]
  },
  {
   "cell_type": "code",
   "execution_count": 14,
   "metadata": {},
   "outputs": [
    {
     "name": "stdout",
     "output_type": "stream",
     "text": [
      "(49600, 21)\n",
      "[-355.47322428  132.43891591   43.9685361    27.86483132   29.9788611\n",
      "   21.52865928   13.18758545    1.44089212  -17.75298791  -14.89513085\n",
      "  -15.94091364  -11.43521358  -13.86867584  -14.51315314  -18.300715\n",
      "   -3.44977593    1.3422925     7.90889077   -0.86991238   -0.80604149\n",
      "    0.        ]\n",
      "(49600, 21)\n"
     ]
    }
   ],
   "source": [
    "# input data shuffling\n",
    "\n",
    "\n",
    "mfcc_append = []\n",
    "\n",
    "for i in range (0, nb_classes):\n",
    "    \n",
    "    if i == 0:\n",
    "        mfcc_append = np.vstack([mfcc[i], mfcc[i+1]])\n",
    "    \n",
    "    elif i == 1:\n",
    "        continue\n",
    "        \n",
    "    else:\n",
    "        mfcc_append = np.vstack([mfcc_append, mfcc[i]])\n",
    "\n",
    "\n",
    "print(mfcc_append.shape)\n",
    "\n",
    "print(mfcc_append[20])\n",
    "\n",
    "\n",
    "np.random.shuffle(mfcc_append)\n",
    "\n",
    "mfcc_shuffle = mfcc_append\n",
    "print(mfcc_shuffle.shape)"
   ]
  },
  {
   "cell_type": "code",
   "execution_count": 15,
   "metadata": {},
   "outputs": [
    {
     "name": "stdout",
     "output_type": "stream",
     "text": [
      "FINAL IN/OUTPUT SHAPE\n",
      "(49600, 20)\n",
      "(49600, 20)\n",
      "\n",
      "FINAL IN/OUTPUT DATA\n",
      "[[-370.10871822  112.98027944   29.61631237 ...   11.74968794\n",
      "     7.37475207    3.16256044]\n",
      " [-121.22956538  102.97050119  -32.89280822 ...   12.96843278\n",
      "    17.65834005   31.49661074]\n",
      " [-115.38645648  133.11006277  -53.07846612 ...    7.04108446\n",
      "    -6.61337952   -2.96491208]\n",
      " ...\n",
      " [-241.94323842   55.86097046   52.53813654 ...   -4.58395716\n",
      "   -16.3762113     4.28580356]\n",
      " [-186.90035391  117.78446615    7.2839688  ...   -2.87235367\n",
      "     0.89264194    4.8907196 ]\n",
      " [-207.48433864  101.00392039    5.83409878 ...   -2.56189437\n",
      "     5.83559383   -1.49801045]]\n",
      "[[0. 0. 0. ... 0. 0. 0.]\n",
      " [0. 0. 0. ... 0. 0. 0.]\n",
      " [0. 0. 0. ... 0. 0. 0.]\n",
      " ...\n",
      " [0. 0. 0. ... 0. 0. 1.]\n",
      " [0. 0. 0. ... 0. 0. 0.]\n",
      " [0. 0. 0. ... 0. 1. 0.]]\n"
     ]
    }
   ],
   "source": [
    "# labeled value one-hot encoding\n",
    "\n",
    "mfcc_shuffle_T = mfcc_shuffle.transpose()\n",
    "\n",
    "x_data_t = mfcc_shuffle_T[:-1]\n",
    "y_data_t = mfcc_shuffle_T[-1:]\n",
    "x_data = x_data_t.transpose()\n",
    "y_data_t = y_data_t.flatten()\n",
    "\n",
    "\n",
    "\n",
    "y_data_one_hot = tf.one_hot(y_data_t, nb_classes, dtype=tf.float32)\n",
    "\n",
    "tf.InteractiveSession().as_default()\n",
    "tf.tables_initializer().run()\n",
    "\n",
    "y_data_one_hot = y_data_one_hot.eval()\n",
    "\n",
    "\n",
    "print(\"FINAL IN/OUTPUT SHAPE\")\n",
    "print(x_data.shape)\n",
    "print(y_data_one_hot.shape)\n",
    "\n",
    "print(\"\\nFINAL IN/OUTPUT DATA\")\n",
    "print(x_data)\n",
    "print(y_data_one_hot)"
   ]
  },
  {
   "cell_type": "code",
   "execution_count": 16,
   "metadata": {},
   "outputs": [],
   "source": [
    "# FCN\n",
    "\n",
    "training_number = 18000\n",
    "learning_rate = 0.0001\n",
    "\n",
    "\n",
    "with tf.variable_scope(\"sound_classifications-1-3\") as scope:\n",
    "    tf.variable_scope(scope, reuse=True)\n",
    "    \n",
    "    X = tf.placeholder(tf.float32, [None, 20])\n",
    "    Y = tf.placeholder(tf.float32, [None, nb_classes])\n",
    "\n",
    "    W1 = tf.get_variable(\"W1\", shape=[20, 500], initializer=tf.contrib.layers.xavier_initializer())\n",
    "    b1 = tf.Variable(tf.random_normal([500]))\n",
    "    L1 = tf.nn.relu(tf.matmul(X, W1) + b1)\n",
    "\n",
    "    W2 = tf.get_variable(\"W2\", shape=[500, 500], initializer=tf.contrib.layers.xavier_initializer())\n",
    "    b2 = tf.Variable(tf.random_normal([500]))\n",
    "    L2 = tf.nn.relu(tf.matmul(L1, W2) + b2)\n",
    "\n",
    "\n",
    "    W3 = tf.get_variable(\"W3\", shape=[500, nb_classes], initializer=tf.contrib.layers.xavier_initializer())\n",
    "    b3 = tf.Variable(tf.random_normal([nb_classes]))\n",
    "    hypothesis = tf.matmul(L2, W3) + b3"
   ]
  },
  {
   "cell_type": "code",
   "execution_count": 17,
   "metadata": {},
   "outputs": [
    {
     "name": "stdout",
     "output_type": "stream",
     "text": [
      "WARNING:tensorflow:From <ipython-input-17-77fb8f5bf4a3>:4: softmax_cross_entropy_with_logits (from tensorflow.python.ops.nn_ops) is deprecated and will be removed in a future version.\n",
      "Instructions for updating:\n",
      "\n",
      "Future major versions of TensorFlow will allow gradients to flow\n",
      "into the labels input on backprop by default.\n",
      "\n",
      "See @{tf.nn.softmax_cross_entropy_with_logits_v2}.\n",
      "\n",
      "WARNING:tensorflow:From <ipython-input-17-77fb8f5bf4a3>:9: arg_max (from tensorflow.python.ops.gen_math_ops) is deprecated and will be removed in a future version.\n",
      "Instructions for updating:\n",
      "Use `argmax` instead\n"
     ]
    }
   ],
   "source": [
    "# Cross entropy cost/loss\n",
    "#cost = tf.reduce_mean(-tf.reduce_sum(Y * tf.log(hypothesis), axis=1))\n",
    "\n",
    "cost = tf.reduce_mean(tf.nn.softmax_cross_entropy_with_logits(labels=Y, logits=hypothesis))\n",
    "\n",
    "optimizer = tf.train.AdamOptimizer(learning_rate=learning_rate).minimize(cost)\n",
    "\n",
    "# Accuracy\n",
    "is_correct = tf.equal(tf.arg_max(hypothesis, 1), tf.argmax(Y, 1))\n",
    "accuracy = tf.reduce_mean(tf.cast(is_correct, tf.float32))"
   ]
  },
  {
   "cell_type": "code",
   "execution_count": 18,
   "metadata": {},
   "outputs": [
    {
     "name": "stdout",
     "output_type": "stream",
     "text": [
      "0 1.3907592\n",
      "10 0.6076664\n",
      "20 0.44021025\n",
      "30 0.3451095\n",
      "40 0.2798561\n",
      "50 0.24140732\n",
      "60 0.20487328\n",
      "70 0.15473998\n",
      "80 0.11410581\n",
      "Accuracy:  0.94590724\n"
     ]
    }
   ],
   "source": [
    "# Launch graph\n",
    "\n",
    "batch_size = 200\n",
    "\n",
    "cost_history = []\n",
    "with tf.Session() as sess:\n",
    "    sess.run(tf.global_variables_initializer())\n",
    "\n",
    "    for epoch in range(int(training_number/batch_size)):\n",
    "        batch_count = int(x_data.shape[0]/batch_size)\n",
    "        \n",
    "        for i in range(batch_count):\n",
    "    \n",
    "            batch_xs, batch_ys = x_data[i* batch_size: i*batch_size+batch_size], y_data_one_hot[i*batch_size:i*batch_size+batch_size]\n",
    "        \n",
    "            sess.run(optimizer, feed_dict={X: batch_xs, Y: batch_ys})\n",
    "\n",
    "            curr_cost = sess.run(cost, feed_dict={X: batch_xs, Y: batch_ys})\n",
    "            \n",
    "            \n",
    "        if epoch % 10 == 0:    \n",
    "            print(epoch, curr_cost)\n",
    "            cost_history.append(curr_cost)\n",
    "                                \n",
    "                                \n",
    "    print(\"Accuracy: \", accuracy.eval(session=sess, feed_dict={X: x_data, Y: y_data_one_hot})) "
   ]
  },
  {
   "cell_type": "code",
   "execution_count": 19,
   "metadata": {},
   "outputs": [
    {
     "data": {
      "image/png": "[encoded data removed]",
      "text/plain": [
       "<Figure size 432x288 with 1 Axes>"
      ]
     },
     "metadata": {},
     "output_type": "display_data"
    }
   ],
   "source": [
    "plt.plot(cost_history)\n",
    "plt.show()"
   ]
  },
  {
   "cell_type": "code",
   "execution_count": null,
   "metadata": {},
   "outputs": [],
   "source": []
  }
 ],
 "metadata": {
  "kernelspec": {
   "display_name": "Python 3",
   "language": "python",
   "name": "python3"
  },
  "language_info": {
   "codemirror_mode": {
    "name": "ipython",
    "version": 3
   },
   "file_extension": ".py",
   "mimetype": "text/x-python",
   "name": "python",
   "nbconvert_exporter": "python",
   "pygments_lexer": "ipython3",
   "version": "3.5.5"
  }
 },
 "nbformat": 4,
 "nbformat_minor": 2
}
